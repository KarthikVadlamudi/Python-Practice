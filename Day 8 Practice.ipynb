{
 "cells": [
  {
   "cell_type": "code",
   "execution_count": 2,
   "metadata": {},
   "outputs": [
    {
     "name": "stdout",
     "output_type": "stream",
     "text": [
      "{'firstname': 'Karthik', 'lastname': 'V', 'Username': 'student'}\n"
     ]
    }
   ],
   "source": [
    "user = {\n",
    "    'firstname':'Karthik',\n",
    "    'lastname':'V',\n",
    "    'Username':'student'\n",
    "\n",
    "}\n",
    "\n",
    "print(user)"
   ]
  },
  {
   "cell_type": "code",
   "execution_count": 10,
   "metadata": {},
   "outputs": [
    {
     "name": "stdout",
     "output_type": "stream",
     "text": [
      "{'firstname'}\n",
      "{'Karthik'}\n",
      "{'lastname'}\n",
      "{'V'}\n",
      "{'Username'}\n",
      "{'student'}\n"
     ]
    }
   ],
   "source": [
    "for key,value in user.items():\n",
    "    print({key})\n",
    "    print({value})"
   ]
  },
  {
   "cell_type": "code",
   "execution_count": 11,
   "metadata": {},
   "outputs": [
    {
     "name": "stdout",
     "output_type": "stream",
     "text": [
      "{'Karthik'}\n",
      "{'V'}\n",
      "{'student'}\n"
     ]
    }
   ],
   "source": [
    "for key,value in user.items():\n",
    "  \n",
    "    print({value})"
   ]
  },
  {
   "cell_type": "code",
   "execution_count": 13,
   "metadata": {},
   "outputs": [
    {
     "name": "stdout",
     "output_type": "stream",
     "text": [
      "{'first_name': 'Karthik', 'last_name': ' V', 'Mail Id': 'karthikvadlamudi@gmail.com', 'Newuser': 'yes'}\n"
     ]
    }
   ],
   "source": [
    "#facebook user details\n",
    "\n",
    "user_details = {\n",
    "    \n",
    "    'first_name': 'Karthik',\n",
    "    'last_name': ' V',\n",
    "    'Mail Id': 'karthikvadlamudi@gmail.com',\n",
    "    'Newuser':'yes'\n",
    "}\n",
    "print(user_details)"
   ]
  },
  {
   "cell_type": "code",
   "execution_count": 18,
   "metadata": {},
   "outputs": [
    {
     "name": "stdout",
     "output_type": "stream",
     "text": [
      "values: Karthik\n",
      "values:  V\n",
      "values: karthikvadlamudi@gmail.com\n",
      "values: yes\n"
     ]
    }
   ],
   "source": [
    "for v in user_details.values():\n",
    "    print(f\"values: {v}\")"
   ]
  },
  {
   "cell_type": "code",
   "execution_count": 35,
   "metadata": {},
   "outputs": [
    {
     "name": "stdout",
     "output_type": "stream",
     "text": [
      "{'first_name': 'Karthik', 'last_name': ' V', 'Mail_Id': 'karthikvadlamudi@gmail.com', 'Newuser': 'yes', 'DOB': '01-07-91'}\n"
     ]
    }
   ],
   "source": [
    "#Adding items in Dict\n",
    "user_details = {\n",
    "    \n",
    "    'first_name': 'Karthik',\n",
    "    'last_name': ' V',\n",
    "    'Mail_Id': 'karthikvadlamudi@gmail.com',\n",
    "    'Newuser':'yes'\n",
    "}\n",
    "user_details['DOB']='01-07-91'\n",
    "print(user_details)"
   ]
  },
  {
   "cell_type": "code",
   "execution_count": 40,
   "metadata": {},
   "outputs": [
    {
     "name": "stdout",
     "output_type": "stream",
     "text": [
      "{'first_name': 'Karthik', 'last_name': ' V', 'Mail_Id': 'karthikvadlamudi@gmail.com', 'DOB': '01-07-91'}\n"
     ]
    }
   ],
   "source": [
    "#Deleting item in Dict\n",
    "\n",
    "del user_details['Newuser']\n",
    "print(user_details)"
   ]
  },
  {
   "cell_type": "code",
   "execution_count": 47,
   "metadata": {},
   "outputs": [
    {
     "name": "stdout",
     "output_type": "stream",
     "text": [
      "{'first_name': 'John smith', 'last_name': ' V', 'Mail_Id': 'karthikvadlamudi@gmail.com', 'DOB': '01-07-91', 'firstname': 'John smith'}\n"
     ]
    }
   ],
   "source": [
    "#Changing item in Dict\n",
    "\n",
    "user_details['first_name'] = 'John smith'\n",
    "print(user_details)\n",
    "\n"
   ]
  },
  {
   "cell_type": "code",
   "execution_count": null,
   "metadata": {},
   "outputs": [],
   "source": []
  },
  {
   "cell_type": "code",
   "execution_count": null,
   "metadata": {},
   "outputs": [],
   "source": []
  },
  {
   "cell_type": "code",
   "execution_count": null,
   "metadata": {},
   "outputs": [],
   "source": []
  }
 ],
 "metadata": {
  "kernelspec": {
   "display_name": "Python 3",
   "language": "python",
   "name": "python3"
  },
  "language_info": {
   "codemirror_mode": {
    "name": "ipython",
    "version": 3
   },
   "file_extension": ".py",
   "mimetype": "text/x-python",
   "name": "python",
   "nbconvert_exporter": "python",
   "pygments_lexer": "ipython3",
   "version": "3.7.4"
  }
 },
 "nbformat": 4,
 "nbformat_minor": 2
}
