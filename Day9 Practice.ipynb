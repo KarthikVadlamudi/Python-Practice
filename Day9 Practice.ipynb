{
 "cells": [
  {
   "cell_type": "code",
   "execution_count": 28,
   "metadata": {},
   "outputs": [
    {
     "name": "stdout",
     "output_type": "stream",
     "text": [
      "Hello,Welcome to the world\n"
     ]
    }
   ],
   "source": [
    "def pet_name(greet):\n",
    "    print(f\"{greet},Welcome to the world\")\n",
    "pet_name('Hello')"
   ]
  },
  {
   "cell_type": "code",
   "execution_count": 42,
   "metadata": {},
   "outputs": [
    {
     "name": "stdout",
     "output_type": "stream",
     "text": [
      "Hi,Welcome to the world\n"
     ]
    }
   ],
   "source": [
    "def pet_name(greet):\n",
    "    print(f\"{greet.title()},Welcome to the world\")\n",
    "pet_name('hI')"
   ]
  },
  {
   "cell_type": "code",
   "execution_count": 33,
   "metadata": {},
   "outputs": [
    {
     "name": "stdout",
     "output_type": "stream",
     "text": [
      "Kranti and Keerti, are good friends\n",
      "Kranti is brilliant than Keerti\n"
     ]
    }
   ],
   "source": [
    "def friends(user1,user2):\n",
    "    print(f\"{user1} and {user2}, are good friends\")\n",
    "    print(f\"{user1} is brilliant than {user2}\" )\n",
    "friends('Kranti','Keerti')\n"
   ]
  },
  {
   "cell_type": "code",
   "execution_count": 38,
   "metadata": {},
   "outputs": [
    {
     "name": "stdout",
     "output_type": "stream",
     "text": [
      "Kranti, Keerti and Karthi are good friends\n",
      "Kranti is brilliant than Keerti, Karthi\n"
     ]
    }
   ],
   "source": [
    "#Postional Arguments\n",
    "\n",
    "def friends(user1,user2,user3):\n",
    "    print(f\"{user1}, {user2} and {user3} are good friends\")\n",
    "    print(f\"{user1} is brilliant than {user2}, {user3}\" )\n",
    "friends('kranti','keerti','Karthi')"
   ]
  },
  {
   "cell_type": "code",
   "execution_count": 40,
   "metadata": {},
   "outputs": [
    {
     "name": "stdout",
     "output_type": "stream",
     "text": [
      "Keerti, Karthi and Kranti are good friends\n",
      "keErti is brilliant than KarThi, kranti\n"
     ]
    }
   ],
   "source": [
    "#Keyword Arguments\n",
    "\n",
    "def friends(user1,user2,user3):\n",
    "    print(f\"{user1.title()}, {user2.title()} and {user3.title()} are good friends\")\n",
    "    print(f\"{user1} is brilliant than {user2}, {user3}\" )\n",
    "friends(user3='kranti',user1='keErti',user2='KarThi')"
   ]
  },
  {
   "cell_type": "code",
   "execution_count": null,
   "metadata": {},
   "outputs": [],
   "source": []
  }
 ],
 "metadata": {
  "kernelspec": {
   "display_name": "Python 3",
   "language": "python",
   "name": "python3"
  },
  "language_info": {
   "codemirror_mode": {
    "name": "ipython",
    "version": 3
   },
   "file_extension": ".py",
   "mimetype": "text/x-python",
   "name": "python",
   "nbconvert_exporter": "python",
   "pygments_lexer": "ipython3",
   "version": "3.7.4"
  }
 },
 "nbformat": 4,
 "nbformat_minor": 2
}
