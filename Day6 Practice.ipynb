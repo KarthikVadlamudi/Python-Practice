{
 "cells": [
  {
   "cell_type": "code",
   "execution_count": 1,
   "metadata": {},
   "outputs": [
    {
     "name": "stdout",
     "output_type": "stream",
     "text": [
      "('audi', 'benz', 'MG', 'Kia')\n"
     ]
    }
   ],
   "source": [
    "#Tuple\n",
    "\n",
    "cars = ['audi','benz','MG','Kia']\n",
    "print(cars)"
   ]
  },
  {
   "cell_type": "code",
   "execution_count": 2,
   "metadata": {},
   "outputs": [
    {
     "name": "stdout",
     "output_type": "stream",
     "text": [
      "audi\n"
     ]
    }
   ],
   "source": [
    "print(cars[0])"
   ]
  },
  {
   "cell_type": "code",
   "execution_count": 9,
   "metadata": {},
   "outputs": [
    {
     "name": "stdout",
     "output_type": "stream",
     "text": [
      "('audi', 'benz', 'MG', 'Kia')\n"
     ]
    }
   ],
   "source": [
    "\n",
    "print(cars)"
   ]
  },
  {
   "cell_type": "code",
   "execution_count": 12,
   "metadata": {},
   "outputs": [
    {
     "name": "stdout",
     "output_type": "stream",
     "text": [
      "{'RE': 'classic', 'honda': 'cbr'}\n"
     ]
    }
   ],
   "source": [
    "#Dictionaries\n",
    "\n",
    "bikes = {'RE':'classic', 'honda':'cbr'}\n",
    "print(bikes)"
   ]
  },
  {
   "cell_type": "code",
   "execution_count": 15,
   "metadata": {},
   "outputs": [
    {
     "name": "stdout",
     "output_type": "stream",
     "text": [
      "classic\n"
     ]
    }
   ],
   "source": [
    "print(bikes['RE'])"
   ]
  },
  {
   "cell_type": "code",
   "execution_count": 16,
   "metadata": {},
   "outputs": [
    {
     "data": {
      "text/plain": [
       "dict"
      ]
     },
     "execution_count": 16,
     "metadata": {},
     "output_type": "execute_result"
    }
   ],
   "source": [
    "type(bikes)"
   ]
  },
  {
   "cell_type": "code",
   "execution_count": 17,
   "metadata": {},
   "outputs": [
    {
     "data": {
      "text/plain": [
       "tuple"
      ]
     },
     "execution_count": 17,
     "metadata": {},
     "output_type": "execute_result"
    }
   ],
   "source": [
    "type(cars)"
   ]
  },
  {
   "cell_type": "code",
   "execution_count": 18,
   "metadata": {},
   "outputs": [
    {
     "name": "stdout",
     "output_type": "stream",
     "text": [
      "cbr\n"
     ]
    }
   ],
   "source": [
    "print(bikes['honda'])"
   ]
  },
  {
   "cell_type": "code",
   "execution_count": 30,
   "metadata": {},
   "outputs": [
    {
     "name": "stdout",
     "output_type": "stream",
     "text": [
      "R15\n"
     ]
    }
   ],
   "source": [
    "bikes['yamaha']= 'R15'\n",
    "print(bikes['yamaha'])"
   ]
  },
  {
   "cell_type": "code",
   "execution_count": 31,
   "metadata": {},
   "outputs": [
    {
     "name": "stdout",
     "output_type": "stream",
     "text": [
      "{'RE': 'classic', 'honda': 'cbr'}\n",
      "{'RE': 'classic', 'honda': 'cbr', 'yamaha': 'R15'}\n"
     ]
    }
   ],
   "source": [
    "#adding the key to dictonary\n",
    "\n",
    "bikes = {'RE':'classic', 'honda':'cbr'}\n",
    "print(bikes)\n",
    "bikes.update({'yamaha':'R15'})\n",
    "print(bikes)"
   ]
  },
  {
   "cell_type": "code",
   "execution_count": 42,
   "metadata": {},
   "outputs": [
    {
     "name": "stdout",
     "output_type": "stream",
     "text": [
      "{10: 1, 0: 2, 15: 1, 1: 2, 22: 1, 2: 2}\n"
     ]
    }
   ],
   "source": [
    "dic1= {10:1, 0:2}\n",
    "dic2= {15:1, 1:2}\n",
    "dic3= {22:1, 2:2}\n",
    "dic4={}\n",
    "\n",
    "for d in (dic1,dic2,dic3): dic4.update(d)\n",
    "\n",
    "print(dic4)"
   ]
  },
  {
   "cell_type": "code",
   "execution_count": 48,
   "metadata": {},
   "outputs": [
    {
     "name": "stdout",
     "output_type": "stream",
     "text": [
      "{'a': 10, 'b': 20, 'x': 30, 'y': 40}\n"
     ]
    }
   ],
   "source": [
    "#Merge two dictionaries\n",
    "\n",
    "dic1 = {'a':10, 'b':20}\n",
    "dic2 = {'x':30, 'y':40}\n",
    "\n",
    "dic1.update(dic2)\n",
    "print(dic1)"
   ]
  },
  {
   "cell_type": "code",
   "execution_count": 49,
   "metadata": {},
   "outputs": [
    {
     "name": "stdout",
     "output_type": "stream",
     "text": [
      "{'a': 100, 'b': 240, 'x': 300, 'y': 400}\n"
     ]
    }
   ],
   "source": [
    "#Merge two dictionaries\n",
    "\n",
    "dic1 = {'a':100, 'b':240}\n",
    "dic2 = {'x':300, 'y':400}\n",
    "\n",
    "dic = dic1.copy()\n",
    "dic.update(dic2)\n",
    "print(dic)\n"
   ]
  },
  {
   "cell_type": "code",
   "execution_count": null,
   "metadata": {},
   "outputs": [],
   "source": []
  }
 ],
 "metadata": {
  "kernelspec": {
   "display_name": "Python 3",
   "language": "python",
   "name": "python3"
  },
  "language_info": {
   "codemirror_mode": {
    "name": "ipython",
    "version": 3
   },
   "file_extension": ".py",
   "mimetype": "text/x-python",
   "name": "python",
   "nbconvert_exporter": "python",
   "pygments_lexer": "ipython3",
   "version": "3.7.4"
  }
 },
 "nbformat": 4,
 "nbformat_minor": 2
}
