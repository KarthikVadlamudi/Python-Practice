{
 "cells": [
  {
   "cell_type": "code",
   "execution_count": 5,
   "metadata": {},
   "outputs": [
    {
     "name": "stdout",
     "output_type": "stream",
     "text": [
      "['Avinash', 'Bunty', 'Bala', 'vignesh', 'Jagan']\n"
     ]
    }
   ],
   "source": [
    "#organizing the list\n",
    "\n",
    "names =['Avinash','Bunty','Bala','vignesh','Jagan']\n",
    "print(names)"
   ]
  },
  {
   "cell_type": "code",
   "execution_count": 8,
   "metadata": {},
   "outputs": [
    {
     "name": "stdout",
     "output_type": "stream",
     "text": [
      "['Avinash', 'Bala', 'Bunty', 'Jagan', 'vignesh']\n"
     ]
    }
   ],
   "source": [
    "names.sort()\n",
    "print(names)"
   ]
  },
  {
   "cell_type": "code",
   "execution_count": 9,
   "metadata": {},
   "outputs": [
    {
     "name": "stdout",
     "output_type": "stream",
     "text": [
      "['Avinash', 'Bala', 'Bunty', 'Jagan', 'vignesh']\n"
     ]
    }
   ],
   "source": [
    "print(names)"
   ]
  },
  {
   "cell_type": "code",
   "execution_count": 10,
   "metadata": {},
   "outputs": [
    {
     "name": "stdout",
     "output_type": "stream",
     "text": [
      "['vignesh', 'Jagan', 'Bunty', 'Bala', 'Avinash']\n"
     ]
    }
   ],
   "source": [
    "#reverse ordering\n",
    "\n",
    "names.sort(reverse=True)\n",
    "print(names)"
   ]
  },
  {
   "cell_type": "code",
   "execution_count": 11,
   "metadata": {},
   "outputs": [
    {
     "name": "stdout",
     "output_type": "stream",
     "text": [
      "['Avinash', 'Bala', 'Bunty', 'Jagan', 'vignesh']\n"
     ]
    }
   ],
   "source": [
    "print(sorted(names))"
   ]
  },
  {
   "cell_type": "code",
   "execution_count": 13,
   "metadata": {},
   "outputs": [
    {
     "name": "stdout",
     "output_type": "stream",
     "text": [
      "All the best,Vishnu\n"
     ]
    }
   ],
   "source": [
    "#looping\n",
    "\n",
    "students = ('Vishnu', 'Vinay','Krish','Raghu','Vivek')\n",
    "print(f\"All the best,{students[0]}\")"
   ]
  },
  {
   "cell_type": "code",
   "execution_count": 17,
   "metadata": {},
   "outputs": [
    {
     "name": "stdout",
     "output_type": "stream",
     "text": [
      "All the best,('Vishnu', 'Vinay', 'Krish', 'Raghu', 'Vivek')\n",
      "All the best,('Vishnu', 'Vinay', 'Krish', 'Raghu', 'Vivek')\n",
      "All the best,('Vishnu', 'Vinay', 'Krish', 'Raghu', 'Vivek')\n",
      "All the best,('Vishnu', 'Vinay', 'Krish', 'Raghu', 'Vivek')\n",
      "All the best,('Vishnu', 'Vinay', 'Krish', 'Raghu', 'Vivek')\n"
     ]
    }
   ],
   "source": [
    "students = ('Vishnu', 'Vinay','Krish','Raghu','Vivek')\n",
    "\n",
    "for message in students:\n",
    "    print(f\"All the best,{students}\")\n",
    "    \n"
   ]
  },
  {
   "cell_type": "code",
   "execution_count": 19,
   "metadata": {},
   "outputs": [
    {
     "name": "stdout",
     "output_type": "stream",
     "text": [
      "Vishnu\n",
      "Vinay\n",
      "Krish\n",
      "Raghu\n",
      "Vivek\n"
     ]
    }
   ],
   "source": [
    "\n",
    "for message in students:\n",
    "    print(message)"
   ]
  },
  {
   "cell_type": "code",
   "execution_count": 20,
   "metadata": {},
   "outputs": [
    {
     "name": "stdout",
     "output_type": "stream",
     "text": [
      "All the Best,Vivek\n"
     ]
    }
   ],
   "source": [
    "print(f\"All the Best,{message}\")"
   ]
  },
  {
   "cell_type": "code",
   "execution_count": 34,
   "metadata": {},
   "outputs": [
    {
     "name": "stdout",
     "output_type": "stream",
     "text": [
      "All the Best,(message)\n",
      "All the Best,(message)\n",
      "All the Best,(message)\n",
      "All the Best,(message)\n",
      "All the Best,(message)\n"
     ]
    }
   ],
   "source": [
    "for message in students:\n",
    "    print(f\"All the Best,(message)\")\n",
    "    \n"
   ]
  },
  {
   "cell_type": "code",
   "execution_count": 66,
   "metadata": {},
   "outputs": [
    {
     "name": "stdout",
     "output_type": "stream",
     "text": [
      "\t\n",
      "Arish,All the Best,5\n",
      "\t\n",
      "Priyansh,All the Best,8\n",
      "\t\n",
      "Raghu,All the Best,5\n",
      "\t\n",
      "Vinay,All the Best,5\n",
      "\t\n",
      "Vishnu,All the Best,6\n",
      "\t\n",
      "Vivek,All the Best,5\n"
     ]
    }
   ],
   "source": [
    "students = ['Vishnu', 'Vinay','Arish','Raghu','Vivek','Priyansh']\n",
    "\n",
    "students.sort()\n",
    "for message in students:\n",
    "\n",
    "    print(f\"\\t\\n{message},All the Best,{len(message)}\")\n",
    "    \n"
   ]
  },
  {
   "cell_type": "code",
   "execution_count": 49,
   "metadata": {},
   "outputs": [
    {
     "data": {
      "text/plain": [
       "6"
      ]
     },
     "execution_count": 49,
     "metadata": {},
     "output_type": "execute_result"
    }
   ],
   "source": [
    "len(students)"
   ]
  },
  {
   "cell_type": "code",
   "execution_count": null,
   "metadata": {},
   "outputs": [],
   "source": []
  }
 ],
 "metadata": {
  "kernelspec": {
   "display_name": "Python 3",
   "language": "python",
   "name": "python3"
  },
  "language_info": {
   "codemirror_mode": {
    "name": "ipython",
    "version": 3
   },
   "file_extension": ".py",
   "mimetype": "text/x-python",
   "name": "python",
   "nbconvert_exporter": "python",
   "pygments_lexer": "ipython3",
   "version": "3.7.4"
  }
 },
 "nbformat": 4,
 "nbformat_minor": 2
}
